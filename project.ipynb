{
 "cells": [
  {
   "cell_type": "markdown",
   "id": "6adcb37f-255a-47d5-b602-9cddcd6c5dd3",
   "metadata": {},
   "source": [
    "# MATH2504 Project 2 2022 Semester 2 Submission\n",
    "\n",
    "[Assignment Instructions](https://courses.smp.uq.edu.au/MATH2504/2022/assessment_html/project2.html)\n",
    "\n",
    "Student names: Limao Chang, Tiarne Graves"
   ]
  },
  {
   "cell_type": "markdown",
   "id": "17d94db0-2946-4f54-a206-890a9b63b349",
   "metadata": {},
   "source": [
    "## Perspective Seminar"
   ]
  },
  {
   "cell_type": "markdown",
   "id": "8e74fd18-8265-47a3-8c9f-cb5046a8cc52",
   "metadata": {},
   "source": [
    "## Task 1"
   ]
  },
  {
   "cell_type": "markdown",
   "id": "a833d707",
   "metadata": {},
   "source": [
    "Features of amusement park that are not captured by model:\n",
    "- Amusement park attractions usually serve multiple people simultaneously, whereas the model assumes jobs can only be serviced one at a time\n",
    "- People may cut in line and skip queues, so in reality it is not really a queue in the first-in, first-out (FIFO) sense\n",
    "\n",
    "Model assumptions that are unrealistic for the application of a theme park:\n",
    "- Assuming that queues (and by extension the theme park) have infinite capacity\n",
    "- Assuming that people will unconditionally stay in a queue until they get to the front of the line - they may leave because the queue is too long, they want to go to another attraction, etc.\n",
    "- Assuming that the time taken to move between attractions or leave the theme park is instant, as travelling between attractions takes time\n",
    "- Service duration is independent from all other services - if people are at the theme park together as a party (e.g. a family travelling around the theme park), their service durations will not be independent from each other\n",
    "- Arrival of jobs to nodes is exponentially distributed\n",
    "\n",
    "Answer:  If you were actually using this model to assess congestion at the park, would it be useful or not?\n"
   ]
  },
  {
   "cell_type": "markdown",
   "id": "b64166d8-4798-41a1-9d32-bfbd78ebfe51",
   "metadata": {},
   "source": [
    "## Task 2"
   ]
  },
  {
   "cell_type": "markdown",
   "id": "1d1ec41f-cb94-46fa-9703-355d3491d9dc",
   "metadata": {},
   "source": [
    "## Task 3"
   ]
  },
  {
   "cell_type": "markdown",
   "id": "9cd5a534-5fe4-400a-8d64-e62c7fcf54a3",
   "metadata": {},
   "source": [
    "## Task 4"
   ]
  },
  {
   "cell_type": "markdown",
   "id": "1e497465-6cb3-411e-9e02-f36eb8b96ee0",
   "metadata": {},
   "source": [
    "## Task 5"
   ]
  }
 ],
 "metadata": {
  "kernelspec": {
   "display_name": "Julia 1.7.3",
   "language": "julia",
   "name": "julia-1.7"
  },
  "language_info": {
   "file_extension": ".jl",
   "mimetype": "application/julia",
   "name": "julia",
   "version": "1.7.3"
  }
 },
 "nbformat": 4,
 "nbformat_minor": 5
}
